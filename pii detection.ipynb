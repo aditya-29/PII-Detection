{
 "cells": [
  {
   "cell_type": "code",
   "execution_count": 1,
   "metadata": {},
   "outputs": [
    {
     "name": "stdout",
     "output_type": "stream",
     "text": [
      "Dataset found in disk\n"
     ]
    }
   ],
   "source": [
    "# download the datasets\n",
    "\n",
    "import os\n",
    "import opendatasets as od\n",
    "import pandas as pd\n",
    "\n",
    "data_path = \"./pii-detection-removal-from-educational-data/\"\n",
    "\n",
    "# download the data from kaggle\n",
    "if not os.path.exists(data_path):\n",
    "    print(\"Dataset not found, downloading from Kaggle\")\n",
    "    dataset = \"https://www.kaggle.com/competitions/pii-detection-removal-from-educational-data/data\"\n",
    "    od.download(dataset)\n",
    "else:\n",
    "    print(\"Dataset found in disk\")\n",
    "\n",
    "# check for the files present there\n",
    "assert os.path.exists(data_path + \"train.json\"), \"train.json file missing\"\n",
    "assert os.path.exists(data_path + \"test.json\"), \"test.json file missing\"\n",
    "\n",
    "\n",
    "train_df = pd.read_csv(data_path + \"train.json\")\n",
    "test_df = pd.read_csv(data_path + \"test.json\")\n"
   ]
  },
  {
   "cell_type": "code",
   "execution_count": null,
   "metadata": {},
   "outputs": [],
   "source": []
  }
 ],
 "metadata": {
  "kernelspec": {
   "display_name": "Python 3",
   "language": "python",
   "name": "python3"
  },
  "language_info": {
   "codemirror_mode": {
    "name": "ipython",
    "version": 3
   },
   "file_extension": ".py",
   "mimetype": "text/x-python",
   "name": "python",
   "nbconvert_exporter": "python",
   "pygments_lexer": "ipython3",
   "version": "3.10.6"
  }
 },
 "nbformat": 4,
 "nbformat_minor": 2
}
