{
 "cells": [
  {
   "cell_type": "code",
   "execution_count": 10,
   "metadata": {},
   "outputs": [],
   "source": [
    "class CONFIG:\n",
    "    external_data = False"
   ]
  },
  {
   "cell_type": "code",
   "execution_count": 6,
   "metadata": {},
   "outputs": [
    {
     "name": "stdout",
     "output_type": "stream",
     "text": [
      "Dataset found in disk\n",
      "train_df loaded\n",
      "test_df loaded\n"
     ]
    }
   ],
   "source": [
    "# download the datasets\n",
    "\n",
    "import os\n",
    "import opendatasets as od\n",
    "import pandas as pd\n",
    "import json\n",
    "\n",
    "data_path = \"./pii-detection-removal-from-educational-data/\"\n",
    "\n",
    "# download the data from kaggle\n",
    "if not os.path.exists(data_path):\n",
    "    print(\"Dataset not found, downloading from Kaggle\")\n",
    "    dataset = \"https://www.kaggle.com/competitions/pii-detection-removal-from-educational-data/data\"\n",
    "    od.download(dataset)\n",
    "else:\n",
    "    print(\"Dataset found in disk\")\n",
    "\n",
    "# check for the files present there\n",
    "assert os.path.exists(data_path + \"train.json\"), \"train.json file missing\"\n",
    "assert os.path.exists(data_path + \"test.json\"), \"test.json file missing\"\n",
    "\n",
    "\n",
    "train_df = pd.read_json(open(data_path + \"train.json\"))\n",
    "print(\"train_df loaded\")\n",
    "\n",
    "test_df = pd.read_json(open(data_path + \"test.json\"))\n",
    "print(\"test_df loaded\")"
   ]
  },
  {
   "cell_type": "code",
   "execution_count": 11,
   "metadata": {},
   "outputs": [],
   "source": [
    "# include external data\n",
    "\n",
    "if CONFIG.external_data:\n",
    "    # code to process external data\n",
    "    pass"
   ]
  },
  {
   "cell_type": "code",
   "execution_count": null,
   "metadata": {},
   "outputs": [],
   "source": []
  }
 ],
 "metadata": {
  "kernelspec": {
   "display_name": "Python 3",
   "language": "python",
   "name": "python3"
  },
  "language_info": {
   "codemirror_mode": {
    "name": "ipython",
    "version": 3
   },
   "file_extension": ".py",
   "mimetype": "text/x-python",
   "name": "python",
   "nbconvert_exporter": "python",
   "pygments_lexer": "ipython3",
   "version": "3.10.6"
  }
 },
 "nbformat": 4,
 "nbformat_minor": 2
}
