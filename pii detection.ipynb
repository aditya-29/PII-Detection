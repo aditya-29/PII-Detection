{
 "cells": [
  {
   "cell_type": "code",
   "execution_count": 10,
   "metadata": {},
   "outputs": [],
   "source": [
    "class CONFIG:\n",
    "    external_data = False"
   ]
  },
  {
   "cell_type": "code",
   "execution_count": 6,
   "metadata": {},
   "outputs": [
    {
     "name": "stdout",
     "output_type": "stream",
     "text": [
      "Dataset found in disk\n",
      "train_df loaded\n",
      "test_df loaded\n"
     ]
    }
   ],
   "source": [
    "# download the datasets\n",
    "\n",
    "import os\n",
    "import opendatasets as od\n",
    "import pandas as pd\n",
    "import json\n",
    "\n",
    "data_path = \"./pii-detection-removal-from-educational-data/\"\n",
    "\n",
    "# download the data from kaggle\n",
    "if not os.path.exists(data_path):\n",
    "    print(\"Dataset not found, downloading from Kaggle\")\n",
    "    dataset = \"https://www.kaggle.com/competitions/pii-detection-removal-from-educational-data/data\"\n",
    "    od.download(dataset)\n",
    "else:\n",
    "    print(\"Dataset found in disk\")\n",
    "\n",
    "# check for the files present there\n",
    "assert os.path.exists(data_path + \"train.json\"), \"train.json file missing\"\n",
    "assert os.path.exists(data_path + \"test.json\"), \"test.json file missing\"\n",
    "\n",
    "\n",
    "train_df = pd.read_json(open(data_path + \"train.json\"))\n",
    "print(\"train_df loaded\")\n",
    "\n",
    "test_df = pd.read_json(open(data_path + \"test.json\"))\n",
    "print(\"test_df loaded\")"
   ]
  },
  {
   "cell_type": "code",
   "execution_count": 11,
   "metadata": {},
   "outputs": [],
   "source": [
    "# include external data\n",
    "\n",
    "if CONFIG.external_data:\n",
    "    # code to process external data\n",
    "    pass"
   ]
  },
  {
   "cell_type": "code",
   "execution_count": 12,
   "metadata": {},
   "outputs": [],
   "source": [
    "# scoring\n",
    "from sklearn.metrics import fbeta_score\n",
    "\n",
    "def fbeta_score(pred_df: pd.DataFrame, orig_df: pd.DataFrame, beta=5) -> float:\n",
    "    '''\n",
    "    PARAMS:\n",
    "        pred_df - Dataframe consisting of predicted PII labels\n",
    "        orig_df - Dataframe consisting of original PII labels\n",
    "        beta    - Hyperparameter controlling the tradeoff between precision and recall (default 5)\n",
    "\n",
    "    RETURNS:\n",
    "        score   - calculated fbeta score\n",
    "    '''\n",
    "\n",
    "    tmp_df = pred_df.merge(orig_df, how = \"outer\", on = [\"document\", \"token\"], suffixes=[\"_pred\", \"_orig\"])\n",
    "    \n",
    "    # create a temp column\n",
    "    tmp_df[\"_label\"] = \"\"\n",
    "\n",
    "    # find all the rows in 'orig_df' which doesn't have a label and assign it as False Positive\n",
    "    tmp_df.loc[tmp_df.label_orig.isna(), \"_label\"] = \"FP\"\n",
    "\n",
    "    # find all the rows in 'pred_df' which doesn;t have a label and assign it as False Negative\n",
    "    tmp_df.loc[tmp_df.label_pred.isna(), \"_label\"] = \"FN\"\n",
    "\n",
    "    # find all the mismatch labels from both the dataframes and assign it as a False Negative\n",
    "    tmp_df.loc[(tmp_df.label_orig.notna()) & (tmp_df.label_pred.notna()) & (tmp_df.label_pred != tmp_df.label_orig), \"_label\"] = \"FN\"\n",
    "\n",
    "    # find all the matched labels from both the dataframes and assign it as a False Negative\n",
    "    tmp_df.loc[(tmp_df.label_orig.notna()) & (tmp_df.label_pred.notna()) & (tmp_df.label_pred == tmp_df.label_orig), \"_label\"] = \"TP\"\n",
    "\n",
    "    FP = (tmp_df[\"_label\"] == \"FP\").sum()\n",
    "    FN = (tmp_df[\"_label\"] == \"DN\").sum()\n",
    "    TP = (tmp_df[\"_label\"] == \"TP\").sum()\n",
    "\n",
    "    score = (1 + (beta**2)) * TP / (((1 + (beta**2)) * TP) + ((beta**2)*FN) + FP)\n",
    "\n",
    "    return score\n",
    "\n"
   ]
  },
  {
   "cell_type": "code",
   "execution_count": null,
   "metadata": {},
   "outputs": [],
   "source": []
  }
 ],
 "metadata": {
  "kernelspec": {
   "display_name": "Python 3",
   "language": "python",
   "name": "python3"
  },
  "language_info": {
   "codemirror_mode": {
    "name": "ipython",
    "version": 3
   },
   "file_extension": ".py",
   "mimetype": "text/x-python",
   "name": "python",
   "nbconvert_exporter": "python",
   "pygments_lexer": "ipython3",
   "version": "3.10.6"
  }
 },
 "nbformat": 4,
 "nbformat_minor": 2
}
